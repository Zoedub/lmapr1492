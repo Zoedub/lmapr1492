{
 "cells": [
  {
   "cell_type": "code",
   "execution_count": 1,
   "id": "23733a33",
   "metadata": {},
   "outputs": [],
   "source": [
    "import numpy as np\n",
    "from mp_api.client import MPRester\n",
    "from pymatgen.core.operations import SymmOp\n",
    "from pymatgen.symmetry.analyzer import SpacegroupAnalyzer\n",
    "from pymatgen.electronic_structure.plotter import BSPlotter\n",
    "from pymatgen.phonon.plotter import PhononBSPlotter\n",
    "from jupyter_jsmol.pymatgen import quick_view\n",
    "from lmapr1492 import plot_brillouin_zone, get_plot_bs, get_plot_dos, get_plot_bs_and_dos, get_branch_wavevectors\n",
    "from plotly.subplots import make_subplots\n",
    "import plotly.graph_objects as go"
   ]
  },
  {
   "cell_type": "code",
   "execution_count": 2,
   "id": "abdd4e3f",
   "metadata": {},
   "outputs": [],
   "source": [
    "mp_key = \"bsvkvKtIeOMa1amMu5ZlNLCEpRMHPSeb\"\n",
    "mp_id = \"mp-505297\""
   ]
  },
  {
   "cell_type": "code",
   "execution_count": 3,
   "id": "c18a24eb",
   "metadata": {},
   "outputs": [
    {
     "data": {
      "application/vnd.jupyter.widget-view+json": {
       "model_id": "39dc3b242c504d4b9a46783b148d8628",
       "version_major": 2,
       "version_minor": 0
      },
      "text/plain": [
       "Retrieving MaterialsDoc documents:   0%|          | 0/1 [00:00<?, ?it/s]"
      ]
     },
     "metadata": {},
     "output_type": "display_data"
    },
    {
     "data": {
      "application/vnd.jupyter.widget-view+json": {
       "model_id": "61e12bccee2d4008bd75e46ffaaf7ca6",
       "version_major": 2,
       "version_minor": 0
      },
      "text/plain": [
       "Retrieving ElectronicStructureDoc documents:   0%|          | 0/1 [00:00<?, ?it/s]"
      ]
     },
     "metadata": {},
     "output_type": "display_data"
    },
    {
     "data": {
      "application/vnd.jupyter.widget-view+json": {
       "model_id": "93075a23df9d4ad0b4a0007c118ca517",
       "version_major": 2,
       "version_minor": 0
      },
      "text/plain": [
       "Retrieving ElectronicStructureDoc documents:   0%|          | 0/1 [00:00<?, ?it/s]"
      ]
     },
     "metadata": {},
     "output_type": "display_data"
    },
    {
     "data": {
      "application/vnd.jupyter.widget-view+json": {
       "model_id": "4bf532986b324d6e9fef3e733c05f7c2",
       "version_major": 2,
       "version_minor": 0
      },
      "text/plain": [
       "Retrieving PhononBSDOSDoc documents:   0%|          | 0/1 [00:00<?, ?it/s]"
      ]
     },
     "metadata": {},
     "output_type": "display_data"
    },
    {
     "data": {
      "application/vnd.jupyter.widget-view+json": {
       "model_id": "ee7d7167cb6241358e1d54ac2a3ae3a5",
       "version_major": 2,
       "version_minor": 0
      },
      "text/plain": [
       "Retrieving PhononBSDOSDoc documents:   0%|          | 0/1 [00:00<?, ?it/s]"
      ]
     },
     "metadata": {},
     "output_type": "display_data"
    }
   ],
   "source": [
    "with MPRester(mp_key) as m:\n",
    "    prim_struc = m.get_structure_by_material_id(mp_id)\n",
    "    el_bs = m.get_bandstructure_by_material_id(mp_id)\n",
    "    el_dos = m.get_dos_by_material_id(mp_id)\n",
    "    ph_bs = m.get_phonon_bandstructure_by_material_id(mp_id)\n",
    "    ph_dos = m.get_phonon_dos_by_material_id(mp_id)\n",
    "conv_struc = SpacegroupAnalyzer(prim_struc).get_conventional_standard_structure()\n",
    "symmops = SpacegroupAnalyzer(conv_struc).get_space_group_operations()"
   ]
  },
  {
   "cell_type": "code",
   "execution_count": 4,
   "id": "84a6fb14",
   "metadata": {},
   "outputs": [],
   "source": [
    "# Symétries de la molécule\n",
    "sym = SpacegroupAnalyzer(prim_struc).get_symmetry_operations()\n",
    "\n",
    "# Symétries choisies pour les atomes\n",
    "# Plan miroir (z,y,x)\n",
    "S1 = sym[7]\n",
    "# Axe 4-barre | centre d'inversion en (0,0,0)  (-x-y-z,x,y)\n",
    "S2 = sym[3]\n",
    "# Axe de rotation C2 (y,x,-x-y-z)\n",
    "S3 = sym[6]\n",
    "\n",
    "# Atomes choisis\n",
    "Nb = [0.0, 0.0, 0.0]\n",
    "Sb = [0.0, 0.0, 0.5]\n",
    "Ru = [0.25, 0.25, 0.75]\n",
    "\n",
    "# Application des symétries\n",
    "Nb_sym = S1.operate(Nb)\n",
    "Sb_sym = S2.operate(Sb)\n",
    "Ru_sym = S3.operate(Ru)"
   ]
  },
  {
   "cell_type": "markdown",
   "id": "72383cf7",
   "metadata": {},
   "source": [
    "Première symétrie sur l'atome de Nb"
   ]
  },
  {
   "cell_type": "code",
   "execution_count": 5,
   "id": "ca3ca5fc",
   "metadata": {},
   "outputs": [
    {
     "name": "stdout",
     "output_type": "stream",
     "text": [
      "Opération de symétrie 1: \n",
      "\n",
      "L'atome de départ est le Nb et a comme coordonnées: [0.0, 0.0, 0.0]\n",
      "\n",
      "On lui applique une symétrie de plan miroir (z,y,x) :\n",
      "\n",
      "[[-1. -1. -1.]\n",
      " [ 1.  0.  0.]\n",
      " [ 0.  1.  0.]] * [0.0, 0.0, 0.0] + [0. 0. 0.]\n",
      "L'atome d'arrivé a comme coordonnées : [0. 0. 0.]\n",
      "\n"
     ]
    },
    {
     "data": {
      "application/vnd.jupyter.widget-view+json": {
       "model_id": "57ecd98abc814525b34664c70de6d7ad",
       "version_major": 2,
       "version_minor": 0
      },
      "text/plain": [
       "JsmolView(layout=Layout(align_self='stretch', height='400px'))"
      ]
     },
     "metadata": {},
     "output_type": "display_data"
    }
   ],
   "source": [
    "print(\"Opération de symétrie 1: \\n\")\n",
    "print(\"L'atome de départ est le Nb et a comme coordonnées: {}\\n\".format(Nb))\n",
    "print(\"On lui applique une symétrie de plan miroir (z,y,x) :\\n\")\n",
    "print(S1.rotation_matrix, \"*\", Nb, '+', S1.translation_vector)\n",
    "print(\"L'atome d'arrivé a comme coordonnées : {}\\n\".format(Nb_sym))\n",
    "v1 = quick_view(prim_struc)\n",
    "display(v1)\n",
    "v1.script(\"draw symop 8 {atomno=1}\")"
   ]
  },
  {
   "cell_type": "markdown",
   "id": "83d339ad",
   "metadata": {},
   "source": [
    "Deuxième symétrie sur l'atome de Sb"
   ]
  },
  {
   "cell_type": "code",
   "execution_count": 6,
   "id": "93ce4ec8",
   "metadata": {},
   "outputs": [
    {
     "name": "stdout",
     "output_type": "stream",
     "text": [
      "Opération de symétrie 2: \n",
      "\n",
      "L'atome de départ est le Sb et a comme coordonnées: [0.0, 0.0, 0.5]\n",
      "\n",
      "On lui applique une roto-inversion (-x-y-z,x,y) :\n",
      "[[ 0.  1.  0.]\n",
      " [ 0.  0.  1.]\n",
      " [-1. -1. -1.]] * [0.0, 0.0, 0.5] + [0. 0. 0.]\n",
      "L'atome d'arrivé a comme coordonnées : [ 0.   0.5 -0.5]\n",
      "\n"
     ]
    },
    {
     "data": {
      "application/vnd.jupyter.widget-view+json": {
       "model_id": "e6e6bbc32f8d477590ec8a8033f25844",
       "version_major": 2,
       "version_minor": 0
      },
      "text/plain": [
       "JsmolView(layout=Layout(align_self='stretch', height='400px'))"
      ]
     },
     "metadata": {},
     "output_type": "display_data"
    }
   ],
   "source": [
    "print(\"Opération de symétrie 2: \\n\")\n",
    "print(\"L'atome de départ est le Sb et a comme coordonnées: {}\\n\".format(Sb))\n",
    "print(\"On lui applique une roto-inversion (-x-y-z,x,y) :\")\n",
    "print(S2.rotation_matrix, \"*\", Sb, '+', S2.translation_vector)\n",
    "print(\"L'atome d'arrivé a comme coordonnées : {}\\n\".format(Sb_sym))\n",
    "v1 = quick_view(prim_struc)\n",
    "display(v1)\n",
    "v1.script(\"draw symop 4 {atomno=7}\")"
   ]
  },
  {
   "cell_type": "markdown",
   "id": "d1fae6b8",
   "metadata": {},
   "source": [
    "Troisième symétrie sur l'atome de Ru"
   ]
  },
  {
   "cell_type": "code",
   "execution_count": 7,
   "id": "2d751e8c",
   "metadata": {},
   "outputs": [
    {
     "name": "stdout",
     "output_type": "stream",
     "text": [
      "Opération de symétrie 3: \n",
      "\n",
      "L'atome de départ est le Ru et a comme coordonnées: [0.25, 0.25, 0.75]\n",
      "\n",
      "On lui applique une symétrie d'axe 2 (y,x,-x-y-z) : \n",
      "[[-1. -1. -1.]\n",
      " [ 1.  0.  0.]\n",
      " [ 0.  1.  0.]] * [0.25, 0.25, 0.75] + [0. 0. 0.]\n",
      "L'atome d'arrivé a comme coordonnées : [-1.25  0.25  0.25]\n",
      "\n"
     ]
    },
    {
     "data": {
      "application/vnd.jupyter.widget-view+json": {
       "model_id": "a4d58de64794475fa737827aa739d499",
       "version_major": 2,
       "version_minor": 0
      },
      "text/plain": [
       "JsmolView(layout=Layout(align_self='stretch', height='400px'))"
      ]
     },
     "metadata": {},
     "output_type": "display_data"
    }
   ],
   "source": [
    "print(\"Opération de symétrie 3: \\n\")\n",
    "print(\"L'atome de départ est le Ru et a comme coordonnées: {}\\n\".format(Ru))\n",
    "print(\"On lui applique une symétrie d'axe 2 (y,x,-x-y-z) : \")\n",
    "print(S3.rotation_matrix, \"*\", Ru, '+', S3.translation_vector)\n",
    "print(\"L'atome d'arrivé a comme coordonnées : {}\\n\".format(Ru_sym))\n",
    "v1 = quick_view(prim_struc)\n",
    "display(v1)\n",
    "v1.script(\"draw symop 7 {atomno=3}\")"
   ]
  },
  {
   "cell_type": "code",
   "execution_count": null,
   "id": "26f5e524",
   "metadata": {},
   "outputs": [],
   "source": []
  }
 ],
 "metadata": {
  "kernelspec": {
   "display_name": "Python 3 (ipykernel)",
   "language": "python",
   "name": "python3"
  },
  "language_info": {
   "codemirror_mode": {
    "name": "ipython",
    "version": 3
   },
   "file_extension": ".py",
   "mimetype": "text/x-python",
   "name": "python",
   "nbconvert_exporter": "python",
   "pygments_lexer": "ipython3",
   "version": "3.9.13"
  }
 },
 "nbformat": 4,
 "nbformat_minor": 5
}
